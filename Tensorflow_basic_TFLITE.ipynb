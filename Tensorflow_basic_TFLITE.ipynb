{
  "nbformat": 4,
  "nbformat_minor": 0,
  "metadata": {
    "colab": {
      "provenance": []
    },
    "kernelspec": {
      "name": "python3",
      "display_name": "Python 3"
    },
    "language_info": {
      "name": "python"
    }
  },
  "cells": [
    {
      "cell_type": "code",
      "execution_count": null,
      "metadata": {
        "id": "cWrNt01OqjFX"
      },
      "outputs": [],
      "source": []
    },
    {
      "cell_type": "markdown",
      "source": [
        "CSV TO Tensorflow(my_model.h5)"
      ],
      "metadata": {
        "id": "G2D19Kflqzea"
      }
    },
    {
      "cell_type": "code",
      "source": [
        "# প্রয়োজনীয় লাইব্রেরি ইমপোর্ট\n",
        "import pandas as pd\n",
        "import numpy as np\n",
        "from sklearn.model_selection import train_test_split\n",
        "from tensorflow.keras.models import Sequential, load_model\n",
        "from tensorflow.keras.layers import Dense\n",
        "from tensorflow.keras.utils import to_categorical\n",
        "\n",
        "# 👉 Step 1: CSV ফাইল থেকে ডেটা লোড\n",
        "data = pd.read_csv('data.csv')  # নিশ্চিত হোন যে data.csv ফাইল একই ফোল্ডারে আছে\n",
        "\n",
        "# 👉 Step 2: ফিচার ও লেবেল আলাদা করা\n",
        "X = data.iloc[:, :-1].values  # শেষ কলাম বাদে সব ফিচার\n",
        "y = data.iloc[:, -1].values   # শুধু লেবেল কলাম\n",
        "\n",
        "# 👉 Step 3: One-Hot encode করা (যদি ক্লাস সংখ্যা > 1)\n",
        "y = to_categorical(y)\n",
        "\n",
        "# 👉 Step 4: ট্রেন ও টেস্ট ভাগ করা\n",
        "X_train, X_test, y_train, y_test = train_test_split(X, y, test_size=0.2, random_state=42)\n",
        "\n",
        "# 👉 Step 5: মডেল তৈরি করা\n",
        "model = Sequential()\n",
        "model.add(Dense(32, input_shape=(X_train.shape[1],), activation='relu'))\n",
        "model.add(Dense(16, activation='relu'))\n",
        "model.add(Dense(y.shape[1], activation='softmax'))  # ক্লাস সংখ্যা অনুযায়ী\n",
        "\n",
        "# 👉 Step 6: মডেল কম্পাইল করা\n",
        "model.compile(optimizer='adam', loss='categorical_crossentropy', metrics=['accuracy'])\n",
        "\n",
        "# 👉 Step 7: মডেল ট্রেন করা\n",
        "model.fit(X_train, y_train, epochs=50, batch_size=8, validation_split=0.2)\n",
        "\n",
        "# 👉 Step 8: মডেল .h5 ফাইল হিসেবে সংরক্ষণ\n",
        "model.save('my_model.h5')\n",
        "print(\"✅ মডেল সফলভাবে সংরক্ষিত হয়েছে → my_model.h5\")\n",
        "\n",
        "# 👉 Step 9: মডেল লোড করে প্রেডিকশন দেওয়া (ঐচ্ছিক)\n",
        "loaded_model = load_model('my_model.h5')\n",
        "predictions = loaded_model.predict(X_test)\n",
        "\n",
        "# 👉 প্রেডিকশন দেখানো\n",
        "print(\"\\nউদাহরণ প্রেডিকশন:\")\n",
        "print(np.round(predictions[:5], 2))\n"
      ],
      "metadata": {
        "id": "UvjXTTErqmWD",
        "colab": {
          "base_uri": "https://localhost:8080/"
        },
        "outputId": "18d65eb2-0a5e-4be7-96c5-678fe96eca08"
      },
      "execution_count": 1,
      "outputs": [
        {
          "output_type": "stream",
          "name": "stderr",
          "text": [
            "/usr/local/lib/python3.11/dist-packages/keras/src/layers/core/dense.py:87: UserWarning: Do not pass an `input_shape`/`input_dim` argument to a layer. When using Sequential models, prefer using an `Input(shape)` object as the first layer in the model instead.\n",
            "  super().__init__(activity_regularizer=activity_regularizer, **kwargs)\n"
          ]
        },
        {
          "output_type": "stream",
          "name": "stdout",
          "text": [
            "Epoch 1/50\n",
            "\u001b[1m1/1\u001b[0m \u001b[32m━━━━━━━━━━━━━━━━━━━━\u001b[0m\u001b[37m\u001b[0m \u001b[1m1s\u001b[0m 1s/step - accuracy: 0.3333 - loss: 1.8742 - val_accuracy: 0.0000e+00 - val_loss: 0.9830\n",
            "Epoch 2/50\n",
            "\u001b[1m1/1\u001b[0m \u001b[32m━━━━━━━━━━━━━━━━━━━━\u001b[0m\u001b[37m\u001b[0m \u001b[1m0s\u001b[0m 356ms/step - accuracy: 0.3333 - loss: 1.8188 - val_accuracy: 0.0000e+00 - val_loss: 0.9199\n",
            "Epoch 3/50\n",
            "\u001b[1m1/1\u001b[0m \u001b[32m━━━━━━━━━━━━━━━━━━━━\u001b[0m\u001b[37m\u001b[0m \u001b[1m0s\u001b[0m 136ms/step - accuracy: 0.3333 - loss: 1.7661 - val_accuracy: 0.0000e+00 - val_loss: 0.8618\n",
            "Epoch 4/50\n",
            "\u001b[1m1/1\u001b[0m \u001b[32m━━━━━━━━━━━━━━━━━━━━\u001b[0m\u001b[37m\u001b[0m \u001b[1m0s\u001b[0m 139ms/step - accuracy: 0.3333 - loss: 1.7162 - val_accuracy: 0.0000e+00 - val_loss: 0.8089\n",
            "Epoch 5/50\n",
            "\u001b[1m1/1\u001b[0m \u001b[32m━━━━━━━━━━━━━━━━━━━━\u001b[0m\u001b[37m\u001b[0m \u001b[1m0s\u001b[0m 72ms/step - accuracy: 0.3333 - loss: 1.6690 - val_accuracy: 0.0000e+00 - val_loss: 0.7613\n",
            "Epoch 6/50\n",
            "\u001b[1m1/1\u001b[0m \u001b[32m━━━━━━━━━━━━━━━━━━━━\u001b[0m\u001b[37m\u001b[0m \u001b[1m0s\u001b[0m 73ms/step - accuracy: 0.3333 - loss: 1.6242 - val_accuracy: 0.0000e+00 - val_loss: 0.7190\n",
            "Epoch 7/50\n",
            "\u001b[1m1/1\u001b[0m \u001b[32m━━━━━━━━━━━━━━━━━━━━\u001b[0m\u001b[37m\u001b[0m \u001b[1m0s\u001b[0m 145ms/step - accuracy: 0.6667 - loss: 1.5816 - val_accuracy: 1.0000 - val_loss: 0.6821\n",
            "Epoch 8/50\n",
            "\u001b[1m1/1\u001b[0m \u001b[32m━━━━━━━━━━━━━━━━━━━━\u001b[0m\u001b[37m\u001b[0m \u001b[1m0s\u001b[0m 130ms/step - accuracy: 0.6667 - loss: 1.5409 - val_accuracy: 1.0000 - val_loss: 0.6503\n",
            "Epoch 9/50\n",
            "\u001b[1m1/1\u001b[0m \u001b[32m━━━━━━━━━━━━━━━━━━━━\u001b[0m\u001b[37m\u001b[0m \u001b[1m0s\u001b[0m 139ms/step - accuracy: 0.6667 - loss: 1.5021 - val_accuracy: 1.0000 - val_loss: 0.6234\n",
            "Epoch 10/50\n",
            "\u001b[1m1/1\u001b[0m \u001b[32m━━━━━━━━━━━━━━━━━━━━\u001b[0m\u001b[37m\u001b[0m \u001b[1m0s\u001b[0m 140ms/step - accuracy: 0.6667 - loss: 1.4646 - val_accuracy: 1.0000 - val_loss: 0.6011\n",
            "Epoch 11/50\n",
            "\u001b[1m1/1\u001b[0m \u001b[32m━━━━━━━━━━━━━━━━━━━━\u001b[0m\u001b[37m\u001b[0m \u001b[1m0s\u001b[0m 88ms/step - accuracy: 0.6667 - loss: 1.4285 - val_accuracy: 1.0000 - val_loss: 0.5830\n",
            "Epoch 12/50\n",
            "\u001b[1m1/1\u001b[0m \u001b[32m━━━━━━━━━━━━━━━━━━━━\u001b[0m\u001b[37m\u001b[0m \u001b[1m0s\u001b[0m 73ms/step - accuracy: 0.6667 - loss: 1.3936 - val_accuracy: 1.0000 - val_loss: 0.5687\n",
            "Epoch 13/50\n",
            "\u001b[1m1/1\u001b[0m \u001b[32m━━━━━━━━━━━━━━━━━━━━\u001b[0m\u001b[37m\u001b[0m \u001b[1m0s\u001b[0m 74ms/step - accuracy: 0.6667 - loss: 1.3607 - val_accuracy: 1.0000 - val_loss: 0.5580\n",
            "Epoch 14/50\n",
            "\u001b[1m1/1\u001b[0m \u001b[32m━━━━━━━━━━━━━━━━━━━━\u001b[0m\u001b[37m\u001b[0m \u001b[1m0s\u001b[0m 77ms/step - accuracy: 0.6667 - loss: 1.3283 - val_accuracy: 1.0000 - val_loss: 0.5506\n",
            "Epoch 15/50\n",
            "\u001b[1m1/1\u001b[0m \u001b[32m━━━━━━━━━━━━━━━━━━━━\u001b[0m\u001b[37m\u001b[0m \u001b[1m0s\u001b[0m 79ms/step - accuracy: 0.6667 - loss: 1.2966 - val_accuracy: 1.0000 - val_loss: 0.5460\n",
            "Epoch 16/50\n",
            "\u001b[1m1/1\u001b[0m \u001b[32m━━━━━━━━━━━━━━━━━━━━\u001b[0m\u001b[37m\u001b[0m \u001b[1m0s\u001b[0m 73ms/step - accuracy: 0.6667 - loss: 1.2664 - val_accuracy: 1.0000 - val_loss: 0.5449\n",
            "Epoch 17/50\n",
            "\u001b[1m1/1\u001b[0m \u001b[32m━━━━━━━━━━━━━━━━━━━━\u001b[0m\u001b[37m\u001b[0m \u001b[1m0s\u001b[0m 139ms/step - accuracy: 0.6667 - loss: 1.2373 - val_accuracy: 1.0000 - val_loss: 0.5461\n",
            "Epoch 18/50\n",
            "\u001b[1m1/1\u001b[0m \u001b[32m━━━━━━━━━━━━━━━━━━━━\u001b[0m\u001b[37m\u001b[0m \u001b[1m0s\u001b[0m 139ms/step - accuracy: 0.6667 - loss: 1.2092 - val_accuracy: 1.0000 - val_loss: 0.5495\n",
            "Epoch 19/50\n",
            "\u001b[1m1/1\u001b[0m \u001b[32m━━━━━━━━━━━━━━━━━━━━\u001b[0m\u001b[37m\u001b[0m \u001b[1m0s\u001b[0m 136ms/step - accuracy: 0.6667 - loss: 1.1822 - val_accuracy: 1.0000 - val_loss: 0.5549\n",
            "Epoch 20/50\n",
            "\u001b[1m1/1\u001b[0m \u001b[32m━━━━━━━━━━━━━━━━━━━━\u001b[0m\u001b[37m\u001b[0m \u001b[1m0s\u001b[0m 83ms/step - accuracy: 0.6667 - loss: 1.1564 - val_accuracy: 1.0000 - val_loss: 0.5621\n",
            "Epoch 21/50\n",
            "\u001b[1m1/1\u001b[0m \u001b[32m━━━━━━━━━━━━━━━━━━━━\u001b[0m\u001b[37m\u001b[0m \u001b[1m0s\u001b[0m 174ms/step - accuracy: 0.6667 - loss: 1.1318 - val_accuracy: 1.0000 - val_loss: 0.5709\n",
            "Epoch 22/50\n",
            "\u001b[1m1/1\u001b[0m \u001b[32m━━━━━━━━━━━━━━━━━━━━\u001b[0m\u001b[37m\u001b[0m \u001b[1m0s\u001b[0m 155ms/step - accuracy: 0.6667 - loss: 1.1085 - val_accuracy: 1.0000 - val_loss: 0.5814\n",
            "Epoch 23/50\n",
            "\u001b[1m1/1\u001b[0m \u001b[32m━━━━━━━━━━━━━━━━━━━━\u001b[0m\u001b[37m\u001b[0m \u001b[1m0s\u001b[0m 104ms/step - accuracy: 0.6667 - loss: 1.0869 - val_accuracy: 1.0000 - val_loss: 0.5937\n",
            "Epoch 24/50\n",
            "\u001b[1m1/1\u001b[0m \u001b[32m━━━━━━━━━━━━━━━━━━━━\u001b[0m\u001b[37m\u001b[0m \u001b[1m0s\u001b[0m 109ms/step - accuracy: 0.6667 - loss: 1.0685 - val_accuracy: 1.0000 - val_loss: 0.6079\n",
            "Epoch 25/50\n",
            "\u001b[1m1/1\u001b[0m \u001b[32m━━━━━━━━━━━━━━━━━━━━\u001b[0m\u001b[37m\u001b[0m \u001b[1m0s\u001b[0m 134ms/step - accuracy: 0.6667 - loss: 1.0521 - val_accuracy: 1.0000 - val_loss: 0.6237\n",
            "Epoch 26/50\n",
            "\u001b[1m1/1\u001b[0m \u001b[32m━━━━━━━━━━━━━━━━━━━━\u001b[0m\u001b[37m\u001b[0m \u001b[1m0s\u001b[0m 141ms/step - accuracy: 0.6667 - loss: 1.0369 - val_accuracy: 1.0000 - val_loss: 0.6408\n",
            "Epoch 27/50\n",
            "\u001b[1m1/1\u001b[0m \u001b[32m━━━━━━━━━━━━━━━━━━━━\u001b[0m\u001b[37m\u001b[0m \u001b[1m0s\u001b[0m 302ms/step - accuracy: 0.6667 - loss: 1.0227 - val_accuracy: 1.0000 - val_loss: 0.6587\n",
            "Epoch 28/50\n",
            "\u001b[1m1/1\u001b[0m \u001b[32m━━━━━━━━━━━━━━━━━━━━\u001b[0m\u001b[37m\u001b[0m \u001b[1m0s\u001b[0m 271ms/step - accuracy: 0.6667 - loss: 1.0097 - val_accuracy: 1.0000 - val_loss: 0.6772\n",
            "Epoch 29/50\n",
            "\u001b[1m1/1\u001b[0m \u001b[32m━━━━━━━━━━━━━━━━━━━━\u001b[0m\u001b[37m\u001b[0m \u001b[1m0s\u001b[0m 165ms/step - accuracy: 0.6667 - loss: 0.9978 - val_accuracy: 1.0000 - val_loss: 0.6958\n",
            "Epoch 30/50\n",
            "\u001b[1m1/1\u001b[0m \u001b[32m━━━━━━━━━━━━━━━━━━━━\u001b[0m\u001b[37m\u001b[0m \u001b[1m0s\u001b[0m 301ms/step - accuracy: 0.6667 - loss: 0.9869 - val_accuracy: 1.0000 - val_loss: 0.7143\n",
            "Epoch 31/50\n",
            "\u001b[1m1/1\u001b[0m \u001b[32m━━━━━━━━━━━━━━━━━━━━\u001b[0m\u001b[37m\u001b[0m \u001b[1m0s\u001b[0m 121ms/step - accuracy: 0.6667 - loss: 0.9770 - val_accuracy: 1.0000 - val_loss: 0.7322\n",
            "Epoch 32/50\n",
            "\u001b[1m1/1\u001b[0m \u001b[32m━━━━━━━━━━━━━━━━━━━━\u001b[0m\u001b[37m\u001b[0m \u001b[1m0s\u001b[0m 104ms/step - accuracy: 0.6667 - loss: 0.9677 - val_accuracy: 1.0000 - val_loss: 0.7494\n",
            "Epoch 33/50\n",
            "\u001b[1m1/1\u001b[0m \u001b[32m━━━━━━━━━━━━━━━━━━━━\u001b[0m\u001b[37m\u001b[0m \u001b[1m0s\u001b[0m 136ms/step - accuracy: 0.6667 - loss: 0.9590 - val_accuracy: 1.0000 - val_loss: 0.7658\n",
            "Epoch 34/50\n",
            "\u001b[1m1/1\u001b[0m \u001b[32m━━━━━━━━━━━━━━━━━━━━\u001b[0m\u001b[37m\u001b[0m \u001b[1m0s\u001b[0m 71ms/step - accuracy: 0.6667 - loss: 0.9509 - val_accuracy: 1.0000 - val_loss: 0.7809\n",
            "Epoch 35/50\n",
            "\u001b[1m1/1\u001b[0m \u001b[32m━━━━━━━━━━━━━━━━━━━━\u001b[0m\u001b[37m\u001b[0m \u001b[1m0s\u001b[0m 75ms/step - accuracy: 0.6667 - loss: 0.9434 - val_accuracy: 1.0000 - val_loss: 0.7913\n",
            "Epoch 36/50\n",
            "\u001b[1m1/1\u001b[0m \u001b[32m━━━━━━━━━━━━━━━━━━━━\u001b[0m\u001b[37m\u001b[0m \u001b[1m0s\u001b[0m 74ms/step - accuracy: 0.6667 - loss: 0.9371 - val_accuracy: 1.0000 - val_loss: 0.7985\n",
            "Epoch 37/50\n",
            "\u001b[1m1/1\u001b[0m \u001b[32m━━━━━━━━━━━━━━━━━━━━\u001b[0m\u001b[37m\u001b[0m \u001b[1m0s\u001b[0m 82ms/step - accuracy: 0.6667 - loss: 0.9333 - val_accuracy: 1.0000 - val_loss: 0.8034\n",
            "Epoch 38/50\n",
            "\u001b[1m1/1\u001b[0m \u001b[32m━━━━━━━━━━━━━━━━━━━━\u001b[0m\u001b[37m\u001b[0m \u001b[1m0s\u001b[0m 74ms/step - accuracy: 0.6667 - loss: 0.9290 - val_accuracy: 1.0000 - val_loss: 0.8057\n",
            "Epoch 39/50\n",
            "\u001b[1m1/1\u001b[0m \u001b[32m━━━━━━━━━━━━━━━━━━━━\u001b[0m\u001b[37m\u001b[0m \u001b[1m0s\u001b[0m 77ms/step - accuracy: 0.3333 - loss: 0.9249 - val_accuracy: 1.0000 - val_loss: 0.8057\n",
            "Epoch 40/50\n",
            "\u001b[1m1/1\u001b[0m \u001b[32m━━━━━━━━━━━━━━━━━━━━\u001b[0m\u001b[37m\u001b[0m \u001b[1m0s\u001b[0m 135ms/step - accuracy: 0.3333 - loss: 0.9207 - val_accuracy: 1.0000 - val_loss: 0.8035\n",
            "Epoch 41/50\n",
            "\u001b[1m1/1\u001b[0m \u001b[32m━━━━━━━━━━━━━━━━━━━━\u001b[0m\u001b[37m\u001b[0m \u001b[1m0s\u001b[0m 71ms/step - accuracy: 0.3333 - loss: 0.9165 - val_accuracy: 1.0000 - val_loss: 0.7996\n",
            "Epoch 42/50\n",
            "\u001b[1m1/1\u001b[0m \u001b[32m━━━━━━━━━━━━━━━━━━━━\u001b[0m\u001b[37m\u001b[0m \u001b[1m0s\u001b[0m 72ms/step - accuracy: 0.3333 - loss: 0.9129 - val_accuracy: 1.0000 - val_loss: 0.7940\n",
            "Epoch 43/50\n",
            "\u001b[1m1/1\u001b[0m \u001b[32m━━━━━━━━━━━━━━━━━━━━\u001b[0m\u001b[37m\u001b[0m \u001b[1m0s\u001b[0m 185ms/step - accuracy: 0.3333 - loss: 0.9091 - val_accuracy: 1.0000 - val_loss: 0.7872\n",
            "Epoch 44/50\n",
            "\u001b[1m1/1\u001b[0m \u001b[32m━━━━━━━━━━━━━━━━━━━━\u001b[0m\u001b[37m\u001b[0m \u001b[1m0s\u001b[0m 91ms/step - accuracy: 0.6667 - loss: 0.9053 - val_accuracy: 1.0000 - val_loss: 0.7792\n",
            "Epoch 45/50\n",
            "\u001b[1m1/1\u001b[0m \u001b[32m━━━━━━━━━━━━━━━━━━━━\u001b[0m\u001b[37m\u001b[0m \u001b[1m0s\u001b[0m 71ms/step - accuracy: 0.6667 - loss: 0.9015 - val_accuracy: 1.0000 - val_loss: 0.7704\n",
            "Epoch 46/50\n",
            "\u001b[1m1/1\u001b[0m \u001b[32m━━━━━━━━━━━━━━━━━━━━\u001b[0m\u001b[37m\u001b[0m \u001b[1m0s\u001b[0m 139ms/step - accuracy: 0.6667 - loss: 0.8979 - val_accuracy: 1.0000 - val_loss: 0.7609\n",
            "Epoch 47/50\n",
            "\u001b[1m1/1\u001b[0m \u001b[32m━━━━━━━━━━━━━━━━━━━━\u001b[0m\u001b[37m\u001b[0m \u001b[1m0s\u001b[0m 141ms/step - accuracy: 0.3333 - loss: 0.8944 - val_accuracy: 1.0000 - val_loss: 0.7508\n",
            "Epoch 48/50\n",
            "\u001b[1m1/1\u001b[0m \u001b[32m━━━━━━━━━━━━━━━━━━━━\u001b[0m\u001b[37m\u001b[0m \u001b[1m0s\u001b[0m 134ms/step - accuracy: 0.3333 - loss: 0.8907 - val_accuracy: 1.0000 - val_loss: 0.7403\n",
            "Epoch 49/50\n",
            "\u001b[1m1/1\u001b[0m \u001b[32m━━━━━━━━━━━━━━━━━━━━\u001b[0m\u001b[37m\u001b[0m \u001b[1m0s\u001b[0m 71ms/step - accuracy: 0.3333 - loss: 0.8871 - val_accuracy: 1.0000 - val_loss: 0.7300\n",
            "Epoch 50/50\n",
            "\u001b[1m1/1\u001b[0m \u001b[32m━━━━━━━━━━━━━━━━━━━━\u001b[0m\u001b[37m\u001b[0m \u001b[1m0s\u001b[0m 75ms/step - accuracy: 0.3333 - loss: 0.8836 - val_accuracy: 1.0000 - val_loss: 0.7200\n"
          ]
        },
        {
          "output_type": "stream",
          "name": "stderr",
          "text": [
            "WARNING:absl:You are saving your model as an HDF5 file via `model.save()` or `keras.saving.save_model(model)`. This file format is considered legacy. We recommend using instead the native Keras format, e.g. `model.save('my_model.keras')` or `keras.saving.save_model(model, 'my_model.keras')`. \n"
          ]
        },
        {
          "output_type": "stream",
          "name": "stdout",
          "text": [
            "✅ মডেল সফলভাবে সংরক্ষিত হয়েছে → my_model.h5\n"
          ]
        },
        {
          "output_type": "stream",
          "name": "stderr",
          "text": [
            "WARNING:absl:Compiled the loaded model, but the compiled metrics have yet to be built. `model.compile_metrics` will be empty until you train or evaluate the model.\n"
          ]
        },
        {
          "output_type": "stream",
          "name": "stdout",
          "text": [
            "\u001b[1m1/1\u001b[0m \u001b[32m━━━━━━━━━━━━━━━━━━━━\u001b[0m\u001b[37m\u001b[0m \u001b[1m0s\u001b[0m 72ms/step\n",
            "\n",
            "উদাহরণ প্রেডিকশন:\n",
            "[[0.38 0.42 0.2 ]\n",
            " [0.35 0.43 0.21]]\n"
          ]
        }
      ]
    },
    {
      "cell_type": "markdown",
      "source": [
        "TEST MODEL"
      ],
      "metadata": {
        "id": "Kv9pfpyXrQGE"
      }
    },
    {
      "cell_type": "code",
      "source": [
        "from tensorflow.keras.models import load_model\n",
        "import numpy as np\n",
        "\n",
        "# মডেল লোড করুন\n",
        "model = load_model(\"my_model.h5\")\n",
        "\n",
        "# একটি নতুন ইনপুট উদাহরণ (আপনার মডেলের ফিচার অনুযায়ী)\n",
        "test_sample = np.array([[5.1, 3.5, 1.4, 0.2]])\n",
        "\n",
        "# প্রেডিকশন\n",
        "prediction = model.predict(test_sample)\n",
        "\n",
        "# রাউন্ড করে আউটপুট দেখানো\n",
        "print(\"Prediction:\", np.round(prediction, 2))\n"
      ],
      "metadata": {
        "colab": {
          "base_uri": "https://localhost:8080/"
        },
        "id": "eyHQMHKyrTN0",
        "outputId": "9a8cdf42-e8cd-41f3-faf8-6f3e4d4de490"
      },
      "execution_count": 2,
      "outputs": [
        {
          "output_type": "stream",
          "name": "stderr",
          "text": [
            "WARNING:absl:Compiled the loaded model, but the compiled metrics have yet to be built. `model.compile_metrics` will be empty until you train or evaluate the model.\n"
          ]
        },
        {
          "output_type": "stream",
          "name": "stdout",
          "text": [
            "\u001b[1m1/1\u001b[0m \u001b[32m━━━━━━━━━━━━━━━━━━━━\u001b[0m\u001b[37m\u001b[0m \u001b[1m0s\u001b[0m 59ms/step\n",
            "Prediction: [[0.38 0.42 0.2 ]]\n"
          ]
        }
      ]
    },
    {
      "cell_type": "markdown",
      "source": [
        "Temperature Humidity MODEL"
      ],
      "metadata": {
        "id": "XitwUkcdsyph"
      }
    },
    {
      "cell_type": "code",
      "source": [
        "import pandas as pd\n",
        "from sklearn.model_selection import train_test_split\n",
        "from tensorflow.keras.models import Sequential\n",
        "from tensorflow.keras.layers import Dense\n",
        "import numpy as np\n",
        "\n",
        "# 👉 CSV ফাইল লোড\n",
        "data = pd.read_csv('data.csv')\n",
        "\n",
        "# 👉 ইনপুট (X) ও আউটপুট (y) আলাদা করা\n",
        "X = data[['temp', 'humi']].values  # ফিচার\n",
        "y = data['rain'].values           # লেবেল (0 বা 1)\n",
        "\n",
        "# 👉 ট্রেন-টেস্ট ভাগ\n",
        "X_train, X_test, y_train, y_test = train_test_split(X, y, test_size=0.2, random_state=42)\n",
        "\n",
        "# 👉 মডেল তৈরি\n",
        "model = Sequential()\n",
        "model.add(Dense(16, input_shape=(2,), activation='relu'))  # 2 ফিচার\n",
        "model.add(Dense(8, activation='relu'))\n",
        "model.add(Dense(1, activation='sigmoid'))  # Binary output\n",
        "\n",
        "# 👉 কম্পাইল\n",
        "model.compile(optimizer='adam', loss='binary_crossentropy', metrics=['accuracy'])\n",
        "\n",
        "# 👉 ট্রেন\n",
        "model.fit(X_train, y_train, epochs=50, batch_size=4, validation_split=0.2)\n",
        "\n",
        "# 👉 সেভ\n",
        "model.save('rain_predictor.h5')\n",
        "\n",
        "# 👉 প্রেডিকশন টেস্ট\n",
        "test_sample = np.array([[33.5, 78]])  # উদাহরণ ইনপুট\n",
        "prediction = model.predict(test_sample)\n",
        "\n",
        "# 👉 রেজাল্ট দেখানো\n",
        "print(\"Rain Possibility (0~1):\", np.round(prediction[0][0], 2))\n"
      ],
      "metadata": {
        "id": "9fj3d3Lzs2F5"
      },
      "execution_count": null,
      "outputs": []
    },
    {
      "cell_type": "markdown",
      "source": [
        "Tensor flow to TFLITE model"
      ],
      "metadata": {
        "id": "KAPYZ8LOt9BV"
      }
    },
    {
      "cell_type": "code",
      "source": [
        "import tensorflow as tf\n",
        "\n",
        "# 1. Keras .h5 মডেল লোড\n",
        "model = tf.keras.models.load_model('my_model.h5')\n",
        "\n",
        "# 2. কনভার্টার তৈরি\n",
        "converter = tf.lite.TFLiteConverter.from_keras_model(model)\n",
        "\n",
        "# 3. কনভার্সন\n",
        "tflite_model = converter.convert()\n",
        "\n",
        "# 4. ফাইল হিসেবে সংরক্ষণ\n",
        "with open('model.tflite', 'wb') as f:\n",
        "    f.write(tflite_model)\n",
        "\n",
        "print(\"✅ .tflite ফাইল তৈরি হয়েছে।\")\n"
      ],
      "metadata": {
        "colab": {
          "base_uri": "https://localhost:8080/"
        },
        "id": "oCDMDXUTuDDn",
        "outputId": "d6c84a2a-a3e0-4a29-82d9-53f293fb86d2"
      },
      "execution_count": 3,
      "outputs": [
        {
          "output_type": "stream",
          "name": "stderr",
          "text": [
            "WARNING:absl:Compiled the loaded model, but the compiled metrics have yet to be built. `model.compile_metrics` will be empty until you train or evaluate the model.\n"
          ]
        },
        {
          "output_type": "stream",
          "name": "stdout",
          "text": [
            "Saved artifact at '/tmp/tmpkjuzp8iu'. The following endpoints are available:\n",
            "\n",
            "* Endpoint 'serve'\n",
            "  args_0 (POSITIONAL_ONLY): TensorSpec(shape=(None, 4), dtype=tf.float32, name='input_layer')\n",
            "Output Type:\n",
            "  TensorSpec(shape=(None, 3), dtype=tf.float32, name=None)\n",
            "Captures:\n",
            "  135939630803920: TensorSpec(shape=(), dtype=tf.resource, name=None)\n",
            "  135939630803152: TensorSpec(shape=(), dtype=tf.resource, name=None)\n",
            "  135939630802000: TensorSpec(shape=(), dtype=tf.resource, name=None)\n",
            "  135939630805456: TensorSpec(shape=(), dtype=tf.resource, name=None)\n",
            "  135939630805840: TensorSpec(shape=(), dtype=tf.resource, name=None)\n",
            "  135939630807952: TensorSpec(shape=(), dtype=tf.resource, name=None)\n",
            "✅ .tflite ফাইল তৈরি হয়েছে।\n"
          ]
        }
      ]
    },
    {
      "cell_type": "markdown",
      "source": [
        "TFLITE Model Test"
      ],
      "metadata": {
        "id": "1LJCKlWauKrG"
      }
    },
    {
      "cell_type": "code",
      "source": [
        "import numpy as np\n",
        "import tensorflow as tf\n",
        "\n",
        "# ১. TFLite মডেল লোড করুন\n",
        "interpreter = tf.lite.Interpreter(model_path=\"model.tflite\")\n",
        "interpreter.allocate_tensors()\n",
        "\n",
        "# ২. ইনপুট এবং আউটপুট টেনসর (tensor) এর ইনফো নিন\n",
        "input_details = interpreter.get_input_details()\n",
        "output_details = interpreter.get_output_details()\n",
        "\n",
        "# ৩. ইনপুট ডেটা প্রস্তুত করুন (উদাহরণস্বরূপ)\n",
        "# আপনার মডেলের ইনপুট ফরম্যাট অনুযায়ী ডেটা দিন (shape এবং dtype ঠিক থাকতে হবে)\n",
        "input_shape = input_details[0]['shape']\n",
        "input_data = np.array([[5.1, 3.5, 1.4, 0.2]], dtype=np.float32)  # উদাহরণ ইনপুট\n",
        "\n",
        "# ৪. ইনপুট টেনসরে ডেটা সেট করুন\n",
        "interpreter.set_tensor(input_details[0]['index'], input_data)\n",
        "\n",
        "# ৫. মডেল রান করুন\n",
        "interpreter.invoke()\n",
        "\n",
        "# ৬. আউটপুট টেনসর থেকে রেজাল্ট নিন\n",
        "output_data = interpreter.get_tensor(output_details[0]['index'])\n",
        "print(\"Prediction:\", output_data)\n"
      ],
      "metadata": {
        "colab": {
          "base_uri": "https://localhost:8080/"
        },
        "id": "gIoaDFkDuLol",
        "outputId": "3264f522-1ca1-4f3f-95c0-1d1f1e3d26f2"
      },
      "execution_count": 4,
      "outputs": [
        {
          "output_type": "stream",
          "name": "stdout",
          "text": [
            "Prediction: [[0.37670174 0.4190031  0.20429513]]\n"
          ]
        }
      ]
    }
  ]
}